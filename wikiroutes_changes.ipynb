{
 "cells": [
  {
   "cell_type": "markdown",
   "id": "bb6e0539",
   "metadata": {},
   "source": [
    "## Даты последних изменений маршрутов общественного транспорта с сайта WikiRoutes\n",
    "\n",
    "Сбор данных о дате пользовательских изменений маршрутов общественного транспорта на сайте [wikiroutes.info](https://wikiroutes.info/) (в ознакомительных целях)."
   ]
  },
  {
   "cell_type": "code",
   "execution_count": 2,
   "id": "3bb3e827",
   "metadata": {},
   "outputs": [
    {
     "name": "stdout",
     "output_type": "stream",
     "text": [
      "Requirement already satisfied: playwright in /Users/andrey/.pyenv/versions/3.9.0/lib/python3.9/site-packages (1.40.0)\n",
      "Requirement already satisfied: nest_asyncio in /Users/andrey/.pyenv/versions/3.9.0/lib/python3.9/site-packages (1.5.6)\n",
      "Requirement already satisfied: greenlet==3.0.1 in /Users/andrey/.pyenv/versions/3.9.0/lib/python3.9/site-packages (from playwright) (3.0.1)\n",
      "Requirement already satisfied: pyee==11.0.1 in /Users/andrey/.pyenv/versions/3.9.0/lib/python3.9/site-packages (from playwright) (11.0.1)\n",
      "Requirement already satisfied: typing-extensions in /Users/andrey/.pyenv/versions/3.9.0/lib/python3.9/site-packages (from pyee==11.0.1->playwright) (4.4.0)\n",
      "\n",
      "\u001b[1m[\u001b[0m\u001b[34;49mnotice\u001b[0m\u001b[1;39;49m]\u001b[0m\u001b[39;49m A new release of pip is available: \u001b[0m\u001b[31;49m24.2\u001b[0m\u001b[39;49m -> \u001b[0m\u001b[32;49m24.3.1\u001b[0m\n",
      "\u001b[1m[\u001b[0m\u001b[34;49mnotice\u001b[0m\u001b[1;39;49m]\u001b[0m\u001b[39;49m To update, run: \u001b[0m\u001b[32;49mpip install --upgrade pip\u001b[0m\n"
     ]
    }
   ],
   "source": [
    "# Устанавливаем библиотеку playwright\n",
    "!pip install playwright nest_asyncio"
   ]
  },
  {
   "cell_type": "code",
   "execution_count": 57,
   "id": "a4bf272b",
   "metadata": {},
   "outputs": [],
   "source": [
    "# Устанавливаем библиотеку для работы с Google Sheets API\n",
    "#!pip install gspread\n",
    "import gspread"
   ]
  },
  {
   "cell_type": "code",
   "execution_count": 4,
   "id": "86b16105",
   "metadata": {},
   "outputs": [],
   "source": [
    "# Устанавливаем браузер для работы playwright\n",
    "!playwright install"
   ]
  },
  {
   "cell_type": "code",
   "execution_count": 1,
   "id": "0c8808db",
   "metadata": {},
   "outputs": [],
   "source": [
    "import nest_asyncio\n",
    "import asyncio\n",
    "from playwright.async_api import async_playwright\n",
    "\n",
    "import gspread\n",
    "import json\n",
    "import pandas as pd\n",
    "import re\n",
    "\n",
    "from datetime import datetime\n",
    "\n",
    "nest_asyncio.apply()"
   ]
  },
  {
   "cell_type": "markdown",
   "id": "0a8220f9",
   "metadata": {},
   "source": [
    "Работа с данным заключается в сборе информации с веб-страницы. На ней представлены данные о маршруте общественного транспорта, а также дата внесения изменений пользователями.\n",
    "\n",
    "Отслеживание этой информации позволяет определить, вносились ли изменения в маршрут."
   ]
  },
  {
   "cell_type": "code",
   "execution_count": null,
   "id": "3fc953e3",
   "metadata": {},
   "outputs": [],
   "source": [
    "# Создание учётной записи в Google Sheets API для нашей программы\n",
    "# https://docs.gspread.org/en/v6.1.3/oauth2.html#enable-api-access\n",
    "# https://www.youtube.com/watch?v=RmEsC2T8dwE\n",
    "# Читаем файл json с параметрами\n",
    "key_file = json.load(open(\"///.json\"))"
   ]
  },
  {
   "cell_type": "code",
   "execution_count": null,
   "id": "c2ac7f82",
   "metadata": {},
   "outputs": [],
   "source": [
    "# Подключаем сервисный аккаунт Google Sheets API\n",
    "gc = gspread.service_account(filename=\"///.json\")\n",
    "\n",
    "# Открываем нужную Гугл-таблицу (первый лист)\n",
    "wks = gc.open(\"Ссылки на маршруты WikiRoutes\").sheet1\n",
    "\n",
    "# Забираем данные (ссылки) из 1-го столбца, начиная со 2-й строки (включая пустые строки между заполненными ячейками)\n",
    "link_sheet = {i: {link: \"\"} for i, link in enumerate(wks.col_values(1)[1:], 2)}\n",
    "link_dict = link_sheet.copy()\n",
    "\n",
    "#link_dict = dict(enumerate(wks.col_values(1)[1:], 2))"
   ]
  },
  {
   "cell_type": "code",
   "execution_count": 48,
   "id": "a53e0669",
   "metadata": {},
   "outputs": [
    {
     "data": {
      "text/plain": [
       "{2: {'https://wikiroutes.info/klin?routes=27396': ''},\n",
       " 3: {'https://wikiroutes.info/reutov?routes=10209': ''},\n",
       " 4: {'https://wikiroutes.info/chehov?routes=56264': ''},\n",
       " 5: {'https://wikiroutes.info/msk?routes=30002': ''},\n",
       " 6: {'https://wikiroutes.info/lyubertsy?routes=6538': ''},\n",
       " 7: {'https://wikiroutes.info/solnechnogorsk?routes=6025': ''},\n",
       " 8: {'https://wikiroutes.info/mendeleyevo?routes=8830': ''},\n",
       " 9: {'https://wikiroutes.info/ramenskoe?routes=9655': ''},\n",
       " 10: {'https://wikiroutes.info/msk?routes=4835': ''},\n",
       " 11: {'https://wikiroutes.info/goluboye?routes=42319': ''},\n",
       " 12: {'https://wikiroutes.info/khimki?routes=1036': ''},\n",
       " 13: {'https://wikiroutes.info/dmitrov?routes=12762': ''}}"
      ]
     },
     "execution_count": 48,
     "metadata": {},
     "output_type": "execute_result"
    }
   ],
   "source": [
    "link_dict"
   ]
  },
  {
   "cell_type": "code",
   "execution_count": 49,
   "id": "68ab4bb3",
   "metadata": {},
   "outputs": [
    {
     "data": {
      "text/plain": [
       "12"
      ]
     },
     "execution_count": 49,
     "metadata": {},
     "output_type": "execute_result"
    }
   ],
   "source": [
    "# Проверяем количество полученных ссылок\n",
    "len(link_dict)"
   ]
  },
  {
   "cell_type": "markdown",
   "id": "d1459060",
   "metadata": {},
   "source": [
    "## Первичный сбор данных"
   ]
  },
  {
   "cell_type": "code",
   "execution_count": null,
   "id": "7003ce37",
   "metadata": {},
   "outputs": [
    {
     "name": "stdout",
     "output_type": "stream",
     "text": [
      "Ошибка: Timeout 30000ms exceeded.\n",
      "1 - 1 мес назад или 07.10.2024\n",
      "2 - 07.10.2024\n",
      "1 - 3 мес назад или 23.07.2024\n",
      "2 - 23.07.2024\n",
      "1 - 4 мес назад или 20.07.2024\n",
      "2 - 20.07.2024\n",
      "1 - 3 мес назад или 23.07.2024\n",
      "2 - 23.07.2024\n",
      "1 - 3 мес назад или 23.07.2024\n",
      "2 - 23.07.2024\n",
      "1 - 3 мес назад или 23.07.2024\n",
      "2 - 23.07.2024\n",
      "1 - 3 мес назад или 23.07.2024\n",
      "2 - 23.07.2024\n",
      "Ошибка: Timeout 30000ms exceeded.\n",
      "1 - 3 июля 2022 или 03.07.2022\n",
      "2 - 03.07.2022\n",
      "1 - 3 мес назад или 23.07.2024\n",
      "2 - 23.07.2024\n",
      "1 - 20 дн назад или 30.10.2024\n",
      "2 - 30.10.2024\n"
     ]
    },
    {
     "data": {
      "text/plain": [
       "{2: {'': ''},\n",
       " 3: {'': ''},\n",
       " 4: {'https://wikiroutes.info/klin?routes=27396': 'Нет данных'},\n",
       " 5: {'https://wikiroutes.info/reutov?routes=10209': '07.10.2024'},\n",
       " 6: {'https://wikiroutes.info/chehov?routes=56264': '23.07.2024'},\n",
       " 7: {'https://wikiroutes.info/msk?routes=30002': '20.07.2024'},\n",
       " 8: {'https://wikiroutes.info/lyubertsy?routes=6538': '23.07.2024'},\n",
       " 9: {'https://wikiroutes.info/solnechnogorsk?routes=6025': '23.07.2024'},\n",
       " 10: {'https://wikiroutes.info/mendeleyevo?routes=8830': '23.07.2024'},\n",
       " 11: {'https://wikiroutes.info/ramenskoe?routes=9655': '23.07.2024'},\n",
       " 12: {'https://wikiroutes.info/msk?routes=4835': 'Нет данных'},\n",
       " 13: {'': ''},\n",
       " 14: {'https://wikiroutes.info/goluboye?routes=42319': '03.07.2022'},\n",
       " 15: {'https://wikiroutes.info/khimki?routes=1036': '23.07.2024'},\n",
       " 16: {'': ''},\n",
       " 17: {'': ''},\n",
       " 18: {'': ''},\n",
       " 19: {'': ''},\n",
       " 20: {'https://wikiroutes.info/dmitrov?routes=12762': '30.10.2024'}}"
      ]
     },
     "execution_count": 12,
     "metadata": {},
     "output_type": "execute_result"
    }
   ],
   "source": [
    "async def run_playwright():  # создаём асинхронную функцию\n",
    "    async with async_playwright() as p:\n",
    "        browser = await p.chromium.launch(headless=False)\n",
    "\n",
    "        for i, v in link_dict.items():  # проходим по сслыкам из полученного словаря\n",
    "            for link, date in v.items():\n",
    "                if link != \"\":  # если элемент в списке ссылок не пустой, то происходит переход по ссылке\n",
    "                    try:\n",
    "                        # создаём новую страницу (вкладку) для каждой ссылки\n",
    "                        page = await browser.new_page()\n",
    "                        await page.goto(link)\n",
    "                        await page.wait_for_timeout(3000)\n",
    "\n",
    "                        # выбираем локатор по роли \"ссылка\", в которой находится дата (поиск с помощью регулярных выражений)\n",
    "                        last_edited_locator = page.get_by_role(\"link\", name=re.compile(r\"\\d{2}\\.\\d{2}\\.\\d{4}\"))\n",
    "                        # забираем текст из выбранного элемента\n",
    "                        last_edited_text = await last_edited_locator.inner_text()\n",
    "                        print(f\"1 - {last_edited_text}\")\n",
    "\n",
    "                        # забираем только дату из полученного текста\n",
    "                        match = re.search(r\"(\\d{2}\\.\\d{2}\\.\\d{4})\", last_edited_text)\n",
    "                        \n",
    "                        # если дата успешно получена, добавляем полученный результат в список, где собираются даты\n",
    "                        if match:\n",
    "                            extracted_date = match.group(1)\n",
    "                            print(f\"2 - {extracted_date}\")\n",
    "                            v[link] = extracted_date\n",
    "                        # если дата не получена, делаем запись об отсутствии данных\n",
    "                        else:\n",
    "                            print(\"Нет данных\")\n",
    "                            v[link] = \"Нет данных\"\n",
    "                    # если не получилось собрать данные со страницы, делаем запись об отсутствии данных\n",
    "                    except Exception as e:\n",
    "                        print(f\"Ошибка: {e}\")\n",
    "                        v[link] = \"Нет данных\"\n",
    "                    finally:\n",
    "                        # закрываем текущую страницу после обработки\n",
    "                        await page.wait_for_timeout(3000)\n",
    "                        await page.close()\n",
    "                # если элемент, в котором должна быть ссылка, пустой, тогда элемент с датой также делаем пустым\n",
    "                else:\n",
    "                    v[link] = \"\"\n",
    "        return link_dict\n",
    "        # Закрываем браузер\n",
    "        await browser.close()\n",
    "\n",
    "import asyncio\n",
    "asyncio.run(run_playwright())"
   ]
  },
  {
   "cell_type": "code",
   "execution_count": 13,
   "id": "eced0256",
   "metadata": {},
   "outputs": [
    {
     "data": {
      "text/plain": [
       "{2: {'': ''},\n",
       " 3: {'': ''},\n",
       " 4: {'https://wikiroutes.info/klin?routes=27396': 'Нет данных'},\n",
       " 5: {'https://wikiroutes.info/reutov?routes=10209': '07.10.2024'},\n",
       " 6: {'https://wikiroutes.info/chehov?routes=56264': '23.07.2024'},\n",
       " 7: {'https://wikiroutes.info/msk?routes=30002': '20.07.2024'},\n",
       " 8: {'https://wikiroutes.info/lyubertsy?routes=6538': '23.07.2024'},\n",
       " 9: {'https://wikiroutes.info/solnechnogorsk?routes=6025': '23.07.2024'},\n",
       " 10: {'https://wikiroutes.info/mendeleyevo?routes=8830': '23.07.2024'},\n",
       " 11: {'https://wikiroutes.info/ramenskoe?routes=9655': '23.07.2024'},\n",
       " 12: {'https://wikiroutes.info/msk?routes=4835': 'Нет данных'},\n",
       " 13: {'': ''},\n",
       " 14: {'https://wikiroutes.info/goluboye?routes=42319': '03.07.2022'},\n",
       " 15: {'https://wikiroutes.info/khimki?routes=1036': '23.07.2024'},\n",
       " 16: {'': ''},\n",
       " 17: {'': ''},\n",
       " 18: {'': ''},\n",
       " 19: {'': ''},\n",
       " 20: {'https://wikiroutes.info/dmitrov?routes=12762': '30.10.2024'}}"
      ]
     },
     "execution_count": 13,
     "metadata": {},
     "output_type": "execute_result"
    }
   ],
   "source": [
    "link_dict"
   ]
  },
  {
   "cell_type": "markdown",
   "id": "7c364e54",
   "metadata": {},
   "source": [
    "## Дополнительный сбор данных\n",
    "\n",
    "Если не у всех маршрутов удалось подгрузить даты, пробуем собрать данные у оставшихся маршрутов."
   ]
  },
  {
   "cell_type": "code",
   "execution_count": 16,
   "id": "e445dc05",
   "metadata": {},
   "outputs": [
    {
     "name": "stdout",
     "output_type": "stream",
     "text": [
      "1 - 1 мес назад или 14.10.2024\n",
      "2 - 14.10.2024\n"
     ]
    },
    {
     "data": {
      "text/plain": [
       "{2: {'': ''},\n",
       " 3: {'': ''},\n",
       " 4: {'https://wikiroutes.info/klin?routes=27396': '15.08.2022'},\n",
       " 5: {'https://wikiroutes.info/reutov?routes=10209': '07.10.2024'},\n",
       " 6: {'https://wikiroutes.info/chehov?routes=56264': '23.07.2024'},\n",
       " 7: {'https://wikiroutes.info/msk?routes=30002': '20.07.2024'},\n",
       " 8: {'https://wikiroutes.info/lyubertsy?routes=6538': '23.07.2024'},\n",
       " 9: {'https://wikiroutes.info/solnechnogorsk?routes=6025': '23.07.2024'},\n",
       " 10: {'https://wikiroutes.info/mendeleyevo?routes=8830': '23.07.2024'},\n",
       " 11: {'https://wikiroutes.info/ramenskoe?routes=9655': '23.07.2024'},\n",
       " 12: {'https://wikiroutes.info/msk?routes=4835': '14.10.2024'},\n",
       " 13: {'': ''},\n",
       " 14: {'https://wikiroutes.info/goluboye?routes=42319': '03.07.2022'},\n",
       " 15: {'https://wikiroutes.info/khimki?routes=1036': '23.07.2024'},\n",
       " 16: {'': ''},\n",
       " 17: {'': ''},\n",
       " 18: {'': ''},\n",
       " 19: {'': ''},\n",
       " 20: {'https://wikiroutes.info/dmitrov?routes=12762': '30.10.2024'}}"
      ]
     },
     "execution_count": 16,
     "metadata": {},
     "output_type": "execute_result"
    }
   ],
   "source": [
    "async def run_playwright():  # создаём асинхронную функцию\n",
    "    async with async_playwright() as p:\n",
    "        browser = await p.chromium.launch(headless=False)\n",
    "\n",
    "        for i, v in link_dict.items():  # проходим по сслыкам из полученного словаря\n",
    "            for link, date in v.items():\n",
    "                if date == \"Нет данных\":  # если элемент в списке не пустой, то происходит переход по ссылке\n",
    "                    try:\n",
    "                        # Создаём новую страницу (вкладку) для каждой ссылки\n",
    "                        page = await browser.new_page()\n",
    "                        await page.goto(link)\n",
    "                        await page.wait_for_timeout(3000)\n",
    "\n",
    "                        # выбираем локатор по роли \"ссылка\", в которой находится дата (поиск с помощью регулярных выражений)\n",
    "                        last_edited_locator = page.get_by_role(\"link\", name=re.compile(r\"\\d{2}\\.\\d{2}\\.\\d{4}\"))\n",
    "                        # забираем текст из выбранного элемента\n",
    "                        last_edited_text = await last_edited_locator.inner_text()\n",
    "                        print(f\"1 - {last_edited_text}\")\n",
    "\n",
    "                        # забираем только дату из полученного текста\n",
    "                        match = re.search(r\"(\\d{2}\\.\\d{2}\\.\\d{4})\", last_edited_text)\n",
    "                        \n",
    "                        # если дата успешно получена, добавляем полученный результат в список, где собираются даты\n",
    "                        if match:\n",
    "                            extracted_date = match.group(1)\n",
    "                            print(f\"2 - {extracted_date}\")\n",
    "                            v[link] = extracted_date   \n",
    "                        # если дата не получена, делаем запись об отсутствии данных\n",
    "                        else:\n",
    "                            print(\"Нет данных\")\n",
    "                            v[link] = \"Нет данных\"\n",
    "                    # если не получилось собрать данные со страницы, делаем запись об отсутствии данных\n",
    "                    except Exception as e:\n",
    "                        print(f\"Ошибка: {e}\")\n",
    "                        v[link] = \"Нет данных\"\n",
    "                    finally:\n",
    "                        # Закрываем текущую страницу после обработки\n",
    "                        await page.wait_for_timeout(3000)\n",
    "                        await page.close()\n",
    "                else:\n",
    "                    continue\n",
    "        return link_dict\n",
    "        # Закрываем браузер\n",
    "        await browser.close()\n",
    "\n",
    "import asyncio\n",
    "asyncio.run(run_playwright())"
   ]
  },
  {
   "cell_type": "code",
   "execution_count": 44,
   "id": "25f8cc4b",
   "metadata": {},
   "outputs": [
    {
     "data": {
      "text/plain": [
       "{2: {'': ''},\n",
       " 3: {'': ''},\n",
       " 4: {'https://wikiroutes.info/klin?routes=27396': ''},\n",
       " 5: {'https://wikiroutes.info/reutov?routes=10209': ''},\n",
       " 6: {'https://wikiroutes.info/chehov?routes=56264': ''},\n",
       " 7: {'https://wikiroutes.info/msk?routes=30002': ''},\n",
       " 8: {'https://wikiroutes.info/lyubertsy?routes=6538': ''},\n",
       " 9: {'https://wikiroutes.info/solnechnogorsk?routes=6025': ''},\n",
       " 10: {'https://wikiroutes.info/mendeleyevo?routes=8830': ''},\n",
       " 11: {'https://wikiroutes.info/ramenskoe?routes=9655': ''},\n",
       " 12: {'https://wikiroutes.info/msk?routes=4835': ''},\n",
       " 13: {'': ''},\n",
       " 14: {'https://wikiroutes.info/goluboye?routes=42319': ''},\n",
       " 15: {'https://wikiroutes.info/khimki?routes=1036': ''},\n",
       " 16: {'': ''},\n",
       " 17: {'': ''},\n",
       " 18: {'': ''},\n",
       " 19: {'': ''},\n",
       " 20: {'https://wikiroutes.info/dmitrov?routes=12762': ''}}"
      ]
     },
     "execution_count": 44,
     "metadata": {},
     "output_type": "execute_result"
    }
   ],
   "source": [
    "link_dict"
   ]
  },
  {
   "cell_type": "code",
   "execution_count": 18,
   "id": "46fc4f12",
   "metadata": {},
   "outputs": [
    {
     "data": {
      "text/plain": [
       "19"
      ]
     },
     "execution_count": 18,
     "metadata": {},
     "output_type": "execute_result"
    }
   ],
   "source": [
    "# Проверяем количество полученных ссылок\n",
    "len(link_dict)"
   ]
  },
  {
   "cell_type": "code",
   "execution_count": 41,
   "id": "f8d6b45f",
   "metadata": {},
   "outputs": [
    {
     "data": {
      "text/plain": [
       "(['',\n",
       "  '',\n",
       "  '15.08.2022',\n",
       "  '07.10.2024',\n",
       "  '23.07.2024',\n",
       "  '20.07.2024',\n",
       "  '23.07.2024',\n",
       "  '23.07.2024',\n",
       "  '23.07.2024',\n",
       "  '23.07.2024',\n",
       "  '14.10.2024',\n",
       "  '',\n",
       "  '03.07.2022',\n",
       "  '23.07.2024',\n",
       "  '',\n",
       "  '',\n",
       "  '',\n",
       "  '',\n",
       "  '30.10.2024'],\n",
       " 19)"
      ]
     },
     "execution_count": 41,
     "metadata": {},
     "output_type": "execute_result"
    }
   ],
   "source": [
    "# Для добавления данных в Гугл-таблицу\n",
    "# создаём отдельный список, куда соберём все полученные даты и пропуски (если они имеются)\n",
    "date_list = [l for link in link_dict.values() for l in link.values()]"
   ]
  },
  {
   "cell_type": "code",
   "execution_count": 45,
   "id": "0aa7e78b",
   "metadata": {},
   "outputs": [
    {
     "data": {
      "text/plain": [
       "{'spreadsheetId': '1c0MwtlJndmZyErff83ppd51er8Piwd_GuIhJ2Agyn7w',\n",
       " 'updatedRange': 'Links!F2:F20',\n",
       " 'updatedRows': 19,\n",
       " 'updatedColumns': 1,\n",
       " 'updatedCells': 19}"
      ]
     },
     "execution_count": 45,
     "metadata": {},
     "output_type": "execute_result"
    }
   ],
   "source": [
    "# Задаём переменную с размерами строк и столбцов, по которой будут вноситься данные на лист таблицы\n",
    "cell_range = f\"F2:F{len(link_dict) + 1}\"\n",
    "cell_list = wks.range(cell_range)\n",
    "\n",
    "# С помощью индексированного цикла передаём элементы списка с данными в подготовленный шаблон\n",
    "# с заданными параметрами строк и столбцов\n",
    "for i, cell in enumerate(cell_list):\n",
    "    cell.value = date_list[i]\n",
    "\n",
    "# Передаём подготовленные данные в таблицу\n",
    "wks.update_cells(cell_list)"
   ]
  },
  {
   "cell_type": "code",
   "execution_count": null,
   "id": "db06fb6a",
   "metadata": {},
   "outputs": [],
   "source": []
  }
 ],
 "metadata": {
  "kernelspec": {
   "display_name": "Python 3 (ipykernel)",
   "language": "python",
   "name": "python3"
  },
  "language_info": {
   "codemirror_mode": {
    "name": "ipython",
    "version": 3
   },
   "file_extension": ".py",
   "mimetype": "text/x-python",
   "name": "python",
   "nbconvert_exporter": "python",
   "pygments_lexer": "ipython3",
   "version": "3.9.0"
  }
 },
 "nbformat": 4,
 "nbformat_minor": 5
}
